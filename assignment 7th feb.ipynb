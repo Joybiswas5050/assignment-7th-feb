{
 "cells": [
  {
   "cell_type": "code",
   "execution_count": 1,
   "id": "8be01419-8b27-4347-b8bb-54da6f408678",
   "metadata": {},
   "outputs": [],
   "source": [
    "import re\n",
    "\n",
    "def check_password(password):\n",
    "    if len(password) != 10:\n",
    "        return \"invalid password\"\n",
    "    uppercase_letters = re.findall(r'[A-Z]', password)\n",
    "    lowercase_letters = re.findall(r'[a-z]', password)\n",
    "    numbers = re.findall(r'\\d', password)\n",
    "    special_characters = re.findall(r'[^a-zA-Z0-9]', password)\n",
    "    if len(uppercase_letters) < 2 or len(lowercase_letters) < 2 or len(numbers) < 1 or len(special_characters) < 3:\n",
    "        return \"invalid password\"\n",
    "    return \"valid password\"\n"
   ]
  },
  {
   "cell_type": "code",
   "execution_count": null,
   "id": "86c96e80-f5b3-4418-b788-d3b1edeb41f4",
   "metadata": {},
   "outputs": [],
   "source": []
  }
 ],
 "metadata": {
  "kernelspec": {
   "display_name": "Python 3 (ipykernel)",
   "language": "python",
   "name": "python3"
  },
  "language_info": {
   "codemirror_mode": {
    "name": "ipython",
    "version": 3
   },
   "file_extension": ".py",
   "mimetype": "text/x-python",
   "name": "python",
   "nbconvert_exporter": "python",
   "pygments_lexer": "ipython3",
   "version": "3.10.8"
  }
 },
 "nbformat": 4,
 "nbformat_minor": 5
}
